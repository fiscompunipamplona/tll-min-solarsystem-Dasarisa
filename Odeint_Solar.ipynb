{
 "cells": [
  {
   "cell_type": "code",
   "execution_count": 11,
   "metadata": {},
   "outputs": [],
   "source": [
    "from math import pi, sqrt, tan, cos\n",
    "from numpy import linspace, shape, array\n",
    "import matplotlib.pyplot as plt\n",
    "from scipy.integrate import odeint"
   ]
  },
  {
   "cell_type": "code",
   "execution_count": 12,
   "metadata": {},
   "outputs": [],
   "source": [
    "def orbit_Mercu(init, t):\n",
    "    \n",
    "    dx = init[0]\n",
    "    dy = init[1]\n",
    "    dth = init[4]\n",
    "        \n",
    "    GM = 4*pi*pi # UA^3 / yr^2\n",
    "    \n",
    "    q = 0.313\n",
    "    e = 0.2056\n",
    "    \n",
    "    r = (q*(1-e**2))/(1+e*cos(init[4]))\n",
    "    a = -GM / (r*r*r)\n",
    "\n",
    "    dv_x = a*init[2]\n",
    "    dv_y = a*init[3]\n",
    "    \n",
    "    dthe = (sqrt(dv_x*dv_x + dv_y*dv_y)) / r\n",
    "    \n",
    "    return array([dv_x, dv_y, dx, dy, dthe], float)\n",
    "\n",
    "t = linspace(0, 4, 201)\n",
    "\n",
    "init = [0., 2.*pi, 1., 0., 0.]\n",
    "\n",
    "sol,outodeint = odeint(orbit_Mercu, init, t, full_output=True)\n",
    "vxx, vyy, xx_Mercu, yy_Mercu, th = sol.T"
   ]
  },
  {
   "cell_type": "code",
   "execution_count": 13,
   "metadata": {},
   "outputs": [],
   "source": [
    "def orbit_Venus(init, t):\n",
    "    \n",
    "    dx = init[0]\n",
    "    dy = init[1]\n",
    "    dth = init[4]\n",
    "        \n",
    "    GM = 4*pi*pi # UA^3 / yr^2\n",
    "    \n",
    "    q = 0.731  #Ua\n",
    "    e = 0.0067\n",
    "    \n",
    "    r = (q*(1-e**2))/(1+e*cos(init[4]))\n",
    "    a = -GM / (r*r*r)\n",
    "\n",
    "    dv_x = a*init[2]\n",
    "    dv_y = a*init[3]\n",
    "    \n",
    "    dthe = (sqrt(dv_x*dv_x + dv_y*dv_y)) / r\n",
    "    \n",
    "    return array([dv_x, dv_y, dx, dy, dthe], float)\n",
    "\n",
    "t = linspace(0, 4, 201)\n",
    "\n",
    "init = [0., 2.*pi, 1., 0., 0.]\n",
    "\n",
    "sol,outodeint = odeint(orbit_Mercu, init, t, full_output=True)\n",
    "vxx, vyy, xx_Venus, yy_Venus, th = sol.T"
   ]
  },
  {
   "cell_type": "code",
   "execution_count": 14,
   "metadata": {},
   "outputs": [
    {
     "name": "stderr",
     "output_type": "stream",
     "text": [
      "C:\\ProgramData\\Anaconda3\\lib\\site-packages\\matplotlib\\axes\\_base.py:2481: RuntimeWarning: overflow encountered in double_scalars\n",
      "  x0t -= delta\n"
     ]
    },
    {
     "data": {
      "text/plain": [
       "[<matplotlib.lines.Line2D at 0x8ba3ef0>]"
      ]
     },
     "execution_count": 14,
     "metadata": {},
     "output_type": "execute_result"
    },
    {
     "data": {
      "image/png": "[encoded data removed]",
      "text/plain": [
       "<Figure size 432x288 with 1 Axes>"
      ]
     },
     "metadata": {
      "needs_background": "light"
     },
     "output_type": "display_data"
    }
   ],
   "source": [
    "plt.plot(xx_Mercu, yy_Mercu, )\n",
    "plt.plot(xx_Venus, yy_Venus, )"
   ]
  },
  {
   "cell_type": "code",
   "execution_count": null,
   "metadata": {},
   "outputs": [],
   "source": []
  }
 ],
 "metadata": {
  "kernelspec": {
   "display_name": "Python 3",
   "language": "python",
   "name": "python3"
  },
  "language_info": {
   "codemirror_mode": {
    "name": "ipython",
    "version": 3
   },
   "file_extension": ".py",
   "mimetype": "text/x-python",
   "name": "python",
   "nbconvert_exporter": "python",
   "pygments_lexer": "ipython3",
   "version": "3.5.2"
  }
 },
 "nbformat": 4,
 "nbformat_minor": 2
}
